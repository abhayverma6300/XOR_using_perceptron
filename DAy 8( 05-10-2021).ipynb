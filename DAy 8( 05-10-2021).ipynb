{
 "cells": [
  {
   "cell_type": "markdown",
   "id": "wicked-johnson",
   "metadata": {},
   "source": [
    "# XOR using Perceptron"
   ]
  },
  {
   "cell_type": "code",
   "execution_count": 1,
   "id": "fossil-integration",
   "metadata": {},
   "outputs": [],
   "source": [
    "import numpy as np"
   ]
  },
  {
   "cell_type": "code",
   "execution_count": 2,
   "id": "recognized-librarian",
   "metadata": {},
   "outputs": [],
   "source": [
    "X = np.array([[0,0,1],[1,0,1],[0,1,1],[1,1,1]])\n",
    "Y = np.array([0,0,0,1])"
   ]
  },
  {
   "cell_type": "code",
   "execution_count": 46,
   "id": "directed-starter",
   "metadata": {},
   "outputs": [],
   "source": [
    "rand = np.random.RandomState(0) \n",
    "\n",
    "inputLayerNeurons, hiddenLayerNeurons, outputLayerNeurons = 3,1,1\n",
    "\n",
    "hidden_weights = rand.uniform(size=(inputLayerNeurons,hiddenLayerNeurons))\n",
    "\n",
    "output_weights = rand.uniform(size=(hiddenLayerNeurons,outputLayerNeurons))\n",
    "\n",
    "\n",
    "def sigmoid (x):\n",
    "    return 1/(1 + np.exp(-x))\n",
    "def activation(X,W):\n",
    "    hidden_layer_activation = np.dot(X,hidden_weights)\n",
    "    \n",
    "    hidden_layer_output = sigmoid(hidden_layer_activation)\n",
    "    output_layer_activation = np.dot(hidden_layer_output,output_weights)\n",
    "    \n",
    "    predicted_output = sigmoid(output_layer_activation)\n",
    "    return predicted_output\n",
    "def perceptron(X,Y,lr = 0.1,num_epoch = 100):\n",
    "    \n",
    "    \n",
    "        \n",
    "    \n",
    "    return W\n",
    "    \n",
    "\n",
    "\n",
    "\n"
   ]
  },
  {
   "cell_type": "code",
   "execution_count": 47,
   "id": "generic-intermediate",
   "metadata": {},
   "outputs": [
    {
     "data": {
      "text/plain": [
       "array([[0.58713924],\n",
       "       [0.602047  ],\n",
       "       [0.60583215],\n",
       "       [0.61583677]])"
      ]
     },
     "execution_count": 47,
     "metadata": {},
     "output_type": "execute_result"
    }
   ],
   "source": [
    "activation(X,W)"
   ]
  },
  {
   "cell_type": "code",
   "execution_count": 48,
   "id": "prescription-johnston",
   "metadata": {},
   "outputs": [
    {
     "name": "stdout",
     "output_type": "stream",
     "text": [
      "[[-0.14232652 -0.14232652 -0.14232652  0.10008024]\n",
      " [-0.14424228 -0.14424228 -0.14424228  0.09534413]\n",
      " [-0.14467245 -0.14467245 -0.14467245  0.09412711]\n",
      " [-0.1456958  -0.1456958  -0.1456958   0.09088604]]\n"
     ]
    },
    {
     "ename": "ValueError",
     "evalue": "shapes (4,4) and (1,1) not aligned: 4 (dim 1) != 1 (dim 0)",
     "output_type": "error",
     "traceback": [
      "\u001b[1;31m---------------------------------------------------------------------------\u001b[0m",
      "\u001b[1;31mValueError\u001b[0m                                Traceback (most recent call last)",
      "\u001b[1;32m<ipython-input-48-0d382267feb2>\u001b[0m in \u001b[0;36m<module>\u001b[1;34m\u001b[0m\n\u001b[0;32m      7\u001b[0m \u001b[0mprint\u001b[0m\u001b[1;33m(\u001b[0m\u001b[0md_predicted_output\u001b[0m\u001b[1;33m)\u001b[0m\u001b[1;33m\u001b[0m\u001b[1;33m\u001b[0m\u001b[0m\n\u001b[0;32m      8\u001b[0m \u001b[1;33m\u001b[0m\u001b[0m\n\u001b[1;32m----> 9\u001b[1;33m \u001b[0merror_hidden_layer\u001b[0m \u001b[1;33m=\u001b[0m \u001b[0md_predicted_output\u001b[0m\u001b[1;33m.\u001b[0m\u001b[0mdot\u001b[0m\u001b[1;33m(\u001b[0m\u001b[0moutput_weights\u001b[0m\u001b[1;33m.\u001b[0m\u001b[0mT\u001b[0m\u001b[1;33m)\u001b[0m\u001b[1;33m\u001b[0m\u001b[1;33m\u001b[0m\u001b[0m\n\u001b[0m\u001b[0;32m     10\u001b[0m \u001b[0md_hidden_layer\u001b[0m \u001b[1;33m=\u001b[0m \u001b[0merror_hidden_layer\u001b[0m \u001b[1;33m*\u001b[0m \u001b[0msigmoid_derivative\u001b[0m\u001b[1;33m(\u001b[0m\u001b[0mhidden_layer_output\u001b[0m\u001b[1;33m)\u001b[0m\u001b[1;33m\u001b[0m\u001b[1;33m\u001b[0m\u001b[0m\n\u001b[0;32m     11\u001b[0m \u001b[1;31m#Updating Weights and Biases\u001b[0m\u001b[1;33m\u001b[0m\u001b[1;33m\u001b[0m\u001b[1;33m\u001b[0m\u001b[0m\n",
      "\u001b[1;31mValueError\u001b[0m: shapes (4,4) and (1,1) not aligned: 4 (dim 1) != 1 (dim 0)"
     ]
    }
   ],
   "source": [
    "def sigmoid_derivative(x):\n",
    "    return x * (1 - x)\n",
    "#Backpropagation\n",
    "predicted_output = activation(X,W)\n",
    "error = Y - predicted_output\n",
    "d_predicted_output = error * sigmoid_derivative(predicted_output)\n",
    "print(d_predicted_output)\n",
    "\n",
    "# yeh ek 4*4 matrix aa rha.. joh aage fir multiply ni ho pa rha\n",
    "\n",
    "error_hidden_layer = d_predicted_output.dot(output_weights.T)\n",
    "d_hidden_layer = error_hidden_layer * sigmoid_derivative(hidden_layer_output)\n",
    "#Updating Weights and Biases\n",
    "output_weights += hidden_layer_output.T.dot(d_predicted_output) * lr\n",
    "\n",
    "hidden_weights += inputs.T.dot(d_hidden_layer) * lr\n",
    "\n"
   ]
  },
  {
   "cell_type": "code",
   "execution_count": null,
   "id": "norwegian-prophet",
   "metadata": {},
   "outputs": [],
   "source": []
  },
  {
   "cell_type": "code",
   "execution_count": null,
   "id": "wanted-timing",
   "metadata": {},
   "outputs": [],
   "source": []
  },
  {
   "cell_type": "code",
   "execution_count": null,
   "id": "ranking-presentation",
   "metadata": {},
   "outputs": [],
   "source": []
  }
 ],
 "metadata": {
  "kernelspec": {
   "display_name": "Python 3",
   "language": "python",
   "name": "python3"
  },
  "language_info": {
   "codemirror_mode": {
    "name": "ipython",
    "version": 3
   },
   "file_extension": ".py",
   "mimetype": "text/x-python",
   "name": "python",
   "nbconvert_exporter": "python",
   "pygments_lexer": "ipython3",
   "version": "3.7.4"
  }
 },
 "nbformat": 4,
 "nbformat_minor": 5
}
